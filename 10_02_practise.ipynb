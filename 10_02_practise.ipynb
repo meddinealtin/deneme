{
 "cells": [
  {
   "cell_type": "markdown",
   "metadata": {},
   "source": [
    "# f string & format string"
   ]
  },
  {
   "cell_type": "code",
   "execution_count": 7,
   "metadata": {},
   "outputs": [
    {
     "name": "stdout",
     "output_type": "stream",
     "text": [
      "my name is medine altın and ı'm 33 yeras old\n"
     ]
    }
   ],
   "source": [
    "name=\"medine\"\n",
    "surname= \"altın\"\n",
    "age= 33\n",
    "greettig=\"my name is {} {} and ı'm {} yeras old\".format(name,surname,age)\n",
    "print(greettig)"
   ]
  },
  {
   "cell_type": "code",
   "execution_count": 5,
   "metadata": {},
   "outputs": [
    {
     "name": "stdout",
     "output_type": "stream",
     "text": [
      "My name is Ahmet Altın and \n",
      "I'm 36 years old.\n"
     ]
    }
   ],
   "source": [
    "name = \"Ahmet\"\n",
    "surName = \"Altın\"\n",
    "age = 36\n",
    "\n",
    "greeting = \"My name is \" + name + \" \" + surName + \" and \\nI'm \" + str(age) + \" years old.\"\n",
    "\n",
    "print(greeting)"
   ]
  },
  {
   "cell_type": "code",
   "execution_count": 6,
   "metadata": {},
   "outputs": [
    {
     "name": "stdout",
     "output_type": "stream",
     "text": [
      "My name is Ahmet Altın and \n",
      "I'm 36 years old.\n"
     ]
    }
   ],
   "source": [
    "name = \"Ahmet\"\n",
    "surName = \"Altın\"\n",
    "age = 36\n",
    "\n",
    "greeting = \"My name is {} {} and \\nI'm {} years old.\".format(name, surName, age)\n",
    "\n",
    "print(greeting)"
   ]
  },
  {
   "cell_type": "code",
   "execution_count": null,
   "metadata": {},
   "outputs": [],
   "source": [
    "name = \"Ahmet\"\n",
    "surName = \"Altın\"\n",
    "age = 36\n",
    "\n",
    "greeting = \"My name is {1} {2} and \\nI'm {0} years old.\".format(age, name, surName)\n",
    "\n",
    "print(greeting)"
   ]
  },
  {
   "cell_type": "code",
   "execution_count": null,
   "metadata": {},
   "outputs": [],
   "source": [
    "name = \"Ahmet\"\n",
    "surName = \"Altın\"\n",
    "age = 36\n",
    "\n",
    "greeting = \"My name is {n} {s} and \\nI'm {a} years old.\".format(s=surName, n=name, a=age)\n",
    "\n",
    "print(greeting)"
   ]
  },
  {
   "cell_type": "code",
   "execution_count": 9,
   "metadata": {},
   "outputs": [
    {
     "data": {
      "text/plain": [
       "'m sAmtAtnad'"
      ]
     },
     "execution_count": 9,
     "metadata": {},
     "output_type": "execute_result"
    }
   ],
   "source": [
    "sonuç=greeting[5:26:2]\n",
    "sonuç"
   ]
  },
  {
   "cell_type": "code",
   "execution_count": 10,
   "metadata": {},
   "outputs": [
    {
     "name": "stdout",
     "output_type": "stream",
     "text": [
      "M_y_ _n_a_m_e_ _i_s_ _A_h_m_e_t_ _A_l_t_ı_n_ _a_n_d_ _\n",
      "_I_'_m_ _3_6_ _y_e_a_r_s_ _o_l_d_.\n"
     ]
    }
   ],
   "source": [
    "print(*greeting, sep=\"_\")"
   ]
  },
  {
   "cell_type": "markdown",
   "metadata": {},
   "source": [
    "# string methods"
   ]
  },
  {
   "cell_type": "code",
   "execution_count": 11,
   "metadata": {},
   "outputs": [
    {
     "name": "stdout",
     "output_type": "stream",
     "text": [
      "MY NAME IS AHMET ALTIN AND \n",
      "I'M 36 YEARS OLD.\n"
     ]
    }
   ],
   "source": [
    "print(greeting.upper())"
   ]
  },
  {
   "cell_type": "code",
   "execution_count": 12,
   "metadata": {},
   "outputs": [
    {
     "name": "stdout",
     "output_type": "stream",
     "text": [
      "my name is ahmet altin and \n",
      "i'm 36 years old.\n"
     ]
    }
   ],
   "source": [
    "print(greeting.upper().lower())"
   ]
  },
  {
   "cell_type": "code",
   "execution_count": 14,
   "metadata": {},
   "outputs": [
    {
     "name": "stdout",
     "output_type": "stream",
     "text": [
      "BU YAZIYI FARKETMENIZLE\n",
      "fark etmemeni̇zi̇n,\n",
      "Hiç bir şey fark etmediğini\n",
      "Fark Edeceksi̇ni̇z.\n"
     ]
    }
   ],
   "source": [
    "print(\"bu yazıyı farketmenizle\".upper(),\n",
    "      \"FARK ETMEMENİZİN,\".lower(),\n",
    "      \"hiç bir şey fark etmediğini\".capitalize(), #cümlenin ilk harfini büyük yapar\n",
    "      \"fARK eDECEKSİNİZ.\".title(), #kelimelerin ilk harfelerini büyük diğerlerini küçük yapar\n",
    "      sep=\"\\n\")"
   ]
  },
  {
   "cell_type": "code",
   "execution_count": 15,
   "metadata": {},
   "outputs": [
    {
     "name": "stdout",
     "output_type": "stream",
     "text": [
      "['Çaköslavakyal', 'laşt', 'ramad', 'klar', 'm', 'zdan m', 's', 'n', 'z?']\n"
     ]
    }
   ],
   "source": [
    "print(\"Çekoslavakyalılaştıramadıklarımızdan mısınız?\"\n",
    "      .replace(\"e\", \"a\")\n",
    "      .replace(\"o\", \"ö\")\n",
    "      .replace(\"ı\", \"_\")\n",
    "      .split(\"_\"))\n"
   ]
  },
  {
   "cell_type": "code",
   "execution_count": 16,
   "metadata": {},
   "outputs": [
    {
     "name": "stdout",
     "output_type": "stream",
     "text": [
      "meDİNe yuSuf\n"
     ]
    },
    {
     "data": {
      "text/plain": [
       "<function print(*args, sep=' ', end='\\n', file=None, flush=False)>"
      ]
     },
     "execution_count": 16,
     "metadata": {},
     "output_type": "execute_result"
    }
   ],
   "source": [
    "print(\"meDİNe yuSuf\")\n",
    "print"
   ]
  },
  {
   "cell_type": "code",
   "execution_count": 17,
   "metadata": {},
   "outputs": [],
   "source": [
    "str1=(\"meDİNe yuSuf\")"
   ]
  },
  {
   "cell_type": "code",
   "execution_count": null,
   "metadata": {},
   "outputs": [],
   "source": [
    "print(*str1.)"
   ]
  },
  {
   "cell_type": "code",
   "execution_count": 18,
   "metadata": {},
   "outputs": [],
   "source": [
    "#split ayırmak"
   ]
  },
  {
   "cell_type": "code",
   "execution_count": 19,
   "metadata": {},
   "outputs": [
    {
     "name": "stdout",
     "output_type": "stream",
     "text": [
      "T e c h p r o   I s   T h e   B e s t   C o u r s e   I n   T h e   W o r l d !\n",
      "T e c h p r o   I s   T h e   B e s t   C o u r s e   I n   T h e   W o r l d !\n"
     ]
    }
   ],
   "source": [
    "str1 = \"tECHPRO iS tHE bEST cOURSE iN tHE wORLD!\"\n",
    "\n",
    "print(*str1.swapcase()) #swapcase büyükleri küçük küçükleri büyük yapar\n",
    "print(*str1.title()) #kelimelerin ilk harfleri büyük diğerleri küçük"
   ]
  },
  {
   "cell_type": "code",
   "execution_count": null,
   "metadata": {},
   "outputs": [],
   "source": [
    "print(str1.split(\"E\", maxsplit=3))"
   ]
  },
  {
   "cell_type": "code",
   "execution_count": null,
   "metadata": {},
   "outputs": [],
   "source": [
    "str1 = str1.capitalize()\n",
    "str1"
   ]
  },
  {
   "cell_type": "code",
   "execution_count": null,
   "metadata": {},
   "outputs": [],
   "source": [
    "print(*str1.split(\"h\"), sep=\"☺\\n\")"
   ]
  },
  {
   "cell_type": "markdown",
   "metadata": {},
   "source": [
    "### center ortalama"
   ]
  },
  {
   "cell_type": "code",
   "execution_count": 20,
   "metadata": {},
   "outputs": [
    {
     "data": {
      "text/plain": [
       "40"
      ]
     },
     "execution_count": 20,
     "metadata": {},
     "output_type": "execute_result"
    }
   ],
   "source": [
    "len(str1)"
   ]
  },
  {
   "cell_type": "code",
   "execution_count": 21,
   "metadata": {},
   "outputs": [
    {
     "name": "stdout",
     "output_type": "stream",
     "text": [
      "*****tECHPRO iS tHE bEST cOURSE iN tHE wORLD!*****\n"
     ]
    }
   ],
   "source": [
    "print(str1.center(50,\"*\")) #50 ye tamamla ve gerisini * ile tamamla"
   ]
  },
  {
   "cell_type": "code",
   "execution_count": 22,
   "metadata": {},
   "outputs": [
    {
     "name": "stdout",
     "output_type": "stream",
     "text": [
      "tECHPRO iS tHE bEST cOURSE iN tHE wORLD!**********\n"
     ]
    }
   ],
   "source": [
    "print(str1.ljust(50,\"*\")) #sola yasla gerisini * ile tamamla"
   ]
  },
  {
   "cell_type": "code",
   "execution_count": 23,
   "metadata": {},
   "outputs": [
    {
     "name": "stdout",
     "output_type": "stream",
     "text": [
      "**********tECHPRO iS tHE bEST cOURSE iN tHE wORLD!\n"
     ]
    }
   ],
   "source": [
    "print(str1.rjust(50,\"*\")) #sağa"
   ]
  },
  {
   "cell_type": "markdown",
   "metadata": {},
   "source": [
    "#### strip temizlemek"
   ]
  },
  {
   "cell_type": "code",
   "execution_count": null,
   "metadata": {},
   "outputs": [],
   "source": [
    "str1"
   ]
  },
  {
   "cell_type": "markdown",
   "metadata": {},
   "source": [
    "#### find bulmak"
   ]
  },
  {
   "cell_type": "markdown",
   "metadata": {},
   "source": []
  }
 ],
 "metadata": {
  "kernelspec": {
   "display_name": "Python 3",
   "language": "python",
   "name": "python3"
  },
  "language_info": {
   "codemirror_mode": {
    "name": "ipython",
    "version": 3
   },
   "file_extension": ".py",
   "mimetype": "text/x-python",
   "name": "python",
   "nbconvert_exporter": "python",
   "pygments_lexer": "ipython3",
   "version": "3.12.1"
  }
 },
 "nbformat": 4,
 "nbformat_minor": 2
}
